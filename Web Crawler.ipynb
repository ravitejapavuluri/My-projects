{
 "cells": [
  {
   "cell_type": "markdown",
   "metadata": {},
   "source": [
    "# Web scraping"
   ]
  },
  {
   "cell_type": "code",
   "execution_count": 27,
   "metadata": {},
   "outputs": [],
   "source": [
    "import requests\n",
    "from bs4 import BeautifulSoup\n",
    "import numpy as np\n",
    "import pandas as pd"
   ]
  },
  {
   "cell_type": "code",
   "execution_count": 28,
   "metadata": {},
   "outputs": [],
   "source": [
    "#pulling web contents into page content variable.\n",
    "website = requests.get('https://www.theguardian.com/au') \n",
    "pagecontent = website.content"
   ]
  },
  {
   "cell_type": "code",
   "execution_count": 29,
   "metadata": {},
   "outputs": [
    {
     "data": {
      "text/plain": [
       "<module 'requests' from 'c:\\\\users\\\\ravit\\\\appdata\\\\local\\\\programs\\\\python\\\\python39\\\\lib\\\\site-packages\\\\requests\\\\__init__.py'>"
      ]
     },
     "execution_count": 29,
     "metadata": {},
     "output_type": "execute_result"
    }
   ],
   "source": [
    "requests # not showing output because the output is too big."
   ]
  },
  {
   "cell_type": "code",
   "execution_count": 30,
   "metadata": {},
   "outputs": [],
   "source": [
    "# with this we can fetch whatever type or tags data we want from the html page\n",
    "soup_data = BeautifulSoup(pagecontent, 'html.parser') "
   ]
  },
  {
   "cell_type": "code",
   "execution_count": 31,
   "metadata": {},
   "outputs": [
    {
     "name": "stdout",
     "output_type": "stream",
     "text": [
      "<title>News, sport and opinion from the Guardian's Australia edition | The Guardian</title>\n"
     ]
    }
   ],
   "source": [
    "#pulling the title of the html page\n",
    "print(soup_data.title)"
   ]
  },
  {
   "cell_type": "code",
   "execution_count": null,
   "metadata": {},
   "outputs": [],
   "source": [
    "#printing all the h3 contents in the webpage\n",
    "print(soup_data.find_all('h3')) # not displaying the out put as the its too big and unstructured."
   ]
  },
  {
   "cell_type": "code",
   "execution_count": null,
   "metadata": {},
   "outputs": [],
   "source": [
    "#Pulling all the headlines in page content having class fc-item__header and in span tag\n",
    "for data in soup_data.findAll('div',{'class':'fc-item__content'}):\n",
    "    #print(data)\n",
    "    for data2 in data.findAll('div', {'class':'fc-item__header'}):\n",
    "        print(data2)\n",
    "        \n",
    "        #not showing out put as the data is heavy and unstructured\n",
    "        "
   ]
  },
  {
   "cell_type": "code",
   "execution_count": 33,
   "metadata": {},
   "outputs": [],
   "source": [
    "#Pulled all the headlines in the webpage\n",
    "headlines=[]\n",
    "for data in soup_data.findAll('div',{'class':'fc-item__content'}): #pulling all tags with class 'fc-item__content' in div \n",
    "    #print(data)\n",
    "    for data2 in soup_data.findAll('span', {'class':'js-headline-text'}), : #within the above data further refining only content in class 'js-headline-text'\n",
    "        headlines.append(data2) #capturing all headlines in a array"
   ]
  },
  {
   "cell_type": "code",
   "execution_count": null,
   "metadata": {},
   "outputs": [],
   "source": [
    "headlines # extracted raw headlines(html tags still unremoved)"
   ]
  },
  {
   "cell_type": "code",
   "execution_count": 35,
   "metadata": {},
   "outputs": [],
   "source": [
    "#capturing Hidline kicker\n",
    "captions=[]\n",
    "for data in soup_data.findAll('div',{'class':'fc-item__content'}):\n",
    "    for data3 in soup_data.findAll('span', {'class':'fc-item__kicker'}):\n",
    "        captions.append(data3)"
   ]
  },
  {
   "cell_type": "code",
   "execution_count": 37,
   "metadata": {},
   "outputs": [
    {
     "data": {
      "text/plain": [
       "[<span class=\"fc-item__kicker\">Bitcoin</span>,\n",
       " <span class=\"fc-item__kicker\">Coronavirus</span>,\n",
       " <span class=\"fc-item__kicker\">Victoria</span>,\n",
       " <span class=\"fc-item__kicker\">Brexit</span>,\n",
       " <span class=\"fc-item__kicker\">'Denial and inaction' </span>,\n",
       " <span class=\"fc-item__kicker\">Superannuation</span>,\n",
       " <span class=\"fc-item__kicker\">Deadliest plastics</span>,\n",
       " <span class=\"fc-item__kicker\">Ivanka Trump</span>,\n",
       " <span class=\"fc-item__kicker\">Trade</span>,\n",
       " <span class=\"fc-item__kicker\">Perth</span>]"
      ]
     },
     "execution_count": 37,
     "metadata": {},
     "output_type": "execute_result"
    }
   ],
   "source": [
    "captions[:10] # extracted all captions (HTML tags still unremoved) showing only 10 records"
   ]
  },
  {
   "cell_type": "code",
   "execution_count": 39,
   "metadata": {},
   "outputs": [
    {
     "data": {
      "text/plain": [
       "['Scam ads using unauthorised celebrity images fool tens of thousands of Australians',\n",
       " \"'Autoantibodies' may be driving severe Covid cases, study shows\",\n",
       " 'Police officer dismissed for sexual harassment reinstated',\n",
       " \"Talks to continue as UK and EU agree to 'go the extra mile'\",\n",
       " \"Mathias Cormann tests negative for Covid as campaign for OECD job puts Coalition's climate record in spotlight\",\n",
       " \"Government's changes a 'gift' to for-profit sector, industry funds claim\",\n",
       " 'Bags and packaging biggest marine life killers, study finds',\n",
       " 'Speculation swirls over potential run for US Senate in Florida',\n",
       " 'China tariffs offset by rising Australian iron ore prices due to ‘fear tax’',\n",
       " 'Former president of Rebels bikie gang shot dead at drag race event']"
      ]
     },
     "execution_count": 39,
     "metadata": {},
     "output_type": "execute_result"
    }
   ],
   "source": [
    "#removing unnecessary part(html tags) from each element by slicing\n",
    "headlinesnew=[]\n",
    "for headline in headlines:\n",
    "    for lines in headline:\n",
    "        line = str(lines)[31:-7] # slicing out the tags from the lines.\n",
    "        headlinesnew.append(line)\n",
    "headlinesnew[:10]"
   ]
  },
  {
   "cell_type": "code",
   "execution_count": 41,
   "metadata": {},
   "outputs": [
    {
     "data": {
      "text/plain": [
       "['Bitcoin',\n",
       " 'Coronavirus',\n",
       " 'Victoria',\n",
       " 'Brexit',\n",
       " \"'Denial and inaction' \",\n",
       " 'Superannuation',\n",
       " 'Deadliest plastics',\n",
       " 'Ivanka Trump',\n",
       " 'Trade',\n",
       " 'Perth']"
      ]
     },
     "execution_count": 41,
     "metadata": {},
     "output_type": "execute_result"
    }
   ],
   "source": [
    "captionsnew=[]\n",
    "for caption in captions:\n",
    "        line = str(caption)[30:-7] # slicing out the tags from the lines.\n",
    "        captionsnew.append(line)\n",
    "captionsnew[:10]"
   ]
  },
  {
   "cell_type": "code",
   "execution_count": 16,
   "metadata": {},
   "outputs": [],
   "source": [
    "# exporing both the Headlines and Caption to CSv"
   ]
  },
  {
   "cell_type": "code",
   "execution_count": 46,
   "metadata": {},
   "outputs": [
    {
     "data": {
      "text/html": [
       "<div>\n",
       "<style scoped>\n",
       "    .dataframe tbody tr th:only-of-type {\n",
       "        vertical-align: middle;\n",
       "    }\n",
       "\n",
       "    .dataframe tbody tr th {\n",
       "        vertical-align: top;\n",
       "    }\n",
       "\n",
       "    .dataframe thead th {\n",
       "        text-align: right;\n",
       "    }\n",
       "</style>\n",
       "<table border=\"1\" class=\"dataframe\">\n",
       "  <thead>\n",
       "    <tr style=\"text-align: right;\">\n",
       "      <th></th>\n",
       "      <th>headlines</th>\n",
       "    </tr>\n",
       "  </thead>\n",
       "  <tbody>\n",
       "    <tr>\n",
       "      <th>0</th>\n",
       "      <td>Scam ads using unauthorised celebrity images f...</td>\n",
       "    </tr>\n",
       "    <tr>\n",
       "      <th>1</th>\n",
       "      <td>'Autoantibodies' may be driving severe Covid c...</td>\n",
       "    </tr>\n",
       "    <tr>\n",
       "      <th>2</th>\n",
       "      <td>Police officer dismissed for sexual harassment...</td>\n",
       "    </tr>\n",
       "    <tr>\n",
       "      <th>3</th>\n",
       "      <td>Talks to continue as UK and EU agree to 'go th...</td>\n",
       "    </tr>\n",
       "    <tr>\n",
       "      <th>4</th>\n",
       "      <td>Mathias Cormann tests negative for Covid as ca...</td>\n",
       "    </tr>\n",
       "  </tbody>\n",
       "</table>\n",
       "</div>"
      ],
      "text/plain": [
       "                                           headlines\n",
       "0  Scam ads using unauthorised celebrity images f...\n",
       "1  'Autoantibodies' may be driving severe Covid c...\n",
       "2  Police officer dismissed for sexual harassment...\n",
       "3  Talks to continue as UK and EU agree to 'go th...\n",
       "4  Mathias Cormann tests negative for Covid as ca..."
      ]
     },
     "execution_count": 46,
     "metadata": {},
     "output_type": "execute_result"
    }
   ],
   "source": [
    "headlinesdf = pd.DataFrame(headlinesnew, columns=[\"headlines\"])\n",
    "headlinesdf.head()"
   ]
  },
  {
   "cell_type": "code",
   "execution_count": 45,
   "metadata": {},
   "outputs": [
    {
     "data": {
      "text/html": [
       "<div>\n",
       "<style scoped>\n",
       "    .dataframe tbody tr th:only-of-type {\n",
       "        vertical-align: middle;\n",
       "    }\n",
       "\n",
       "    .dataframe tbody tr th {\n",
       "        vertical-align: top;\n",
       "    }\n",
       "\n",
       "    .dataframe thead th {\n",
       "        text-align: right;\n",
       "    }\n",
       "</style>\n",
       "<table border=\"1\" class=\"dataframe\">\n",
       "  <thead>\n",
       "    <tr style=\"text-align: right;\">\n",
       "      <th></th>\n",
       "      <th>captions</th>\n",
       "    </tr>\n",
       "  </thead>\n",
       "  <tbody>\n",
       "    <tr>\n",
       "      <th>0</th>\n",
       "      <td>Bitcoin</td>\n",
       "    </tr>\n",
       "    <tr>\n",
       "      <th>1</th>\n",
       "      <td>Coronavirus</td>\n",
       "    </tr>\n",
       "    <tr>\n",
       "      <th>2</th>\n",
       "      <td>Victoria</td>\n",
       "    </tr>\n",
       "    <tr>\n",
       "      <th>3</th>\n",
       "      <td>Brexit</td>\n",
       "    </tr>\n",
       "    <tr>\n",
       "      <th>4</th>\n",
       "      <td>'Denial and inaction'</td>\n",
       "    </tr>\n",
       "  </tbody>\n",
       "</table>\n",
       "</div>"
      ],
      "text/plain": [
       "                 captions\n",
       "0                 Bitcoin\n",
       "1             Coronavirus\n",
       "2                Victoria\n",
       "3                  Brexit\n",
       "4  'Denial and inaction' "
      ]
     },
     "execution_count": 45,
     "metadata": {},
     "output_type": "execute_result"
    }
   ],
   "source": [
    "captionsdf = pd.DataFrame(captionsnew, columns=[\"captions\"])\n",
    "captionsdf.head()"
   ]
  },
  {
   "cell_type": "code",
   "execution_count": 48,
   "metadata": {},
   "outputs": [],
   "source": [
    "captionsdf.to_csv(\"caption.csv\")\n",
    "headlinesdf.to_csv(\"headlines.csv\")"
   ]
  },
  {
   "cell_type": "code",
   "execution_count": null,
   "metadata": {},
   "outputs": [],
   "source": []
  }
 ],
 "metadata": {
  "kernelspec": {
   "display_name": "Python 3",
   "language": "python",
   "name": "python3"
  },
  "language_info": {
   "codemirror_mode": {
    "name": "ipython",
    "version": 3
   },
   "file_extension": ".py",
   "mimetype": "text/x-python",
   "name": "python",
   "nbconvert_exporter": "python",
   "pygments_lexer": "ipython3",
   "version": "3.9.0"
  }
 },
 "nbformat": 4,
 "nbformat_minor": 4
}
