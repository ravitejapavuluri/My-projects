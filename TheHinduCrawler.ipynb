{
  "nbformat": 4,
  "nbformat_minor": 0,
  "metadata": {
    "colab": {
      "name": "MywebCrawler.ipynb",
      "provenance": [],
      "collapsed_sections": []
    },
    "kernelspec": {
      "name": "python3",
      "display_name": "Python 3"
    }
  },
  "cells": [
    {
      "cell_type": "code",
      "metadata": {
        "id": "z9APW_ghhAtJ"
      },
      "source": [
        "import numpy as np\r\n",
        "import pandas as pd\r\n",
        "import requests\r\n",
        "import bs4\r\n",
        "import lxml.etree as xml"
      ],
      "execution_count": 88,
      "outputs": []
    },
    {
      "cell_type": "code",
      "metadata": {
        "id": "oKQYA2R4hFSQ"
      },
      "source": [
        "URL = \"https://www.thehindu.com/news/national/?page=1\"\r\n",
        "\r\n",
        "r= requests.get(URL).content"
      ],
      "execution_count": 91,
      "outputs": []
    },
    {
      "cell_type": "code",
      "metadata": {
        "id": "CqTPYw4olyOF"
      },
      "source": [
        "web_page = bs4.BeautifulSoup(r)"
      ],
      "execution_count": 92,
      "outputs": []
    },
    {
      "cell_type": "code",
      "metadata": {
        "colab": {
          "base_uri": "https://localhost:8080/"
        },
        "id": "Ym1wxUOkm80Q",
        "outputId": "a1deb944-6225-46d3-f220-e18fe98efa0d"
      },
      "source": [
        "title= web_page.title\r\n",
        "print(title.text)\r\n"
      ],
      "execution_count": 93,
      "outputs": [
        {
          "output_type": "stream",
          "text": [
            "\n",
            "National News, India News, Latest National News, Breaking News India - The Hindu- Page 1\n",
            "\n"
          ],
          "name": "stdout"
        }
      ]
    },
    {
      "cell_type": "code",
      "metadata": {
        "id": "RsytjXrEm-fI"
      },
      "source": [
        "web_page_board = web_page.find_all(\"a\", class_= \"Other-StoryCard-heading\")\r\n",
        "web_page_board_descriptions= web_page.find_all(\"a\", class_=\"light-gray-color Other-StoryCard-text hidden-xs\")\r\n",
        "#web_page_board_header= web_page_board.find_all(string= \"a\")\r\n",
        "#web_page_board_header_headlines=web_page_board_header.find_all(\"a\")\r\n",
        "#web_page_board_header_headlines\r\n",
        "headlines=[]\r\n",
        "descriptions=[]\r\n",
        "for line in web_page_board:\r\n",
        "\r\n",
        "  #headlines_tag= headline.find_all(\"h3\")\r\n",
        "  texts= line.get_text()\r\n",
        "  #print(texts)\r\n",
        "  headlines.append(texts.strip())\r\n",
        "for description in web_page_board_descriptions:\r\n",
        "    texts=description.get_text()\r\n",
        "    descriptions.append(texts.strip())\r\n",
        "  "
      ],
      "execution_count": 129,
      "outputs": []
    },
    {
      "cell_type": "code",
      "metadata": {
        "id": "pyX4RMh6rsZw"
      },
      "source": [
        ""
      ],
      "execution_count": 131,
      "outputs": []
    },
    {
      "cell_type": "code",
      "metadata": {
        "colab": {
          "base_uri": "https://localhost:8080/"
        },
        "id": "F5KZB3DMCqhf",
        "outputId": "c6209f65-fcac-404f-c361-b33f8c11c849"
      },
      "source": [
        "dictionary = {\"healines\":headlines, \"description\":descriptions}\r\n",
        "dictionary"
      ],
      "execution_count": 134,
      "outputs": [
        {
          "output_type": "execute_result",
          "data": {
            "text/plain": [
              "{'description': ['Reports suggest they were locals with links to Al-Badr',\n",
              "  'There is provision for operational extension of the PM-JAY to approximately 15 lakh additional families.',\n",
              "  'Not advisable to close the committee abruptly unless the U.P. government sets up any effective alternative mechanism: NGT',\n",
              "  'They have been quarantined at Delhi Cantonment, according to sources',\n",
              "  '22,273 new cases were reported across the country, according to data updated by the Union Health Ministry on Saturday.',\n",
              "  'Firing from across the IB in the Satpal Border Outpost area of Hiranagar sector prompted strong retaliation by the BSF, say officials',\n",
              "  'Four States gearing up for COVID-19 vaccine roll-out',\n",
              "  \"According to police, Raees Ahmad Dar and Subzar Ahmad Sheikh were affiliated with the terror outfit, ‘The Resistance Force', believed to be a shadow of Lashkar-e-Taiba.\",\n",
              "  'A select list of stories to read before you start your day',\n",
              "  '‘Economy will limp as long as PM, FM believe in their own myth making, says former finance minister',\n",
              "  'Long shifts and failure to resolve payment and overtime issues allegedly led to the violence by the workers in an iPhone factory in Narasapura earlier this month. Sharath S. Srivatsa reports on the night of the unrest and the many violations of labour rules by Wistron',\n",
              "  'Prime Minister accuses Opposition of using farmers; All-India Kisan Sangharsh Co-ordination Committee says focus still on MSP.',\n",
              "  'Farmers say the strength of the protest has increased, with those from more States joining in',\n",
              "  'Social Justice and Empowerment Ministry seeks comments from public on draft Bill',\n",
              "  'The plan is to drive away the protesters, says Surjewala',\n",
              "  'Eminent artists allotted residences over the years have been served notice to vacate by December 31',\n",
              "  'Best known for his magnum opus Kai Chaand The Sare Asmaan written at the age of 70',\n",
              "  'Cheetah and Chetak helicopters in dire need of replacement',\n",
              "  'e-Sampada brings over a lakh government accomodations, office complexes and holiday homes on one platform.',\n",
              "  'Aims to take on BJP on its own turf on care of gaushalas',\n",
              "  'They wanted to draw attention of Prime Minister Narendra Modi, who had come to pay tributes to former Prime Minister Atal Bihari Vajpayee.',\n",
              "  'Audit revealed alleged diversion of funds to related parties',\n",
              "  'Andhra Pradesh, Assam, Gujarat, Punjab to pilot process in two districts',\n",
              "  \"Here are The Hindu's picks and reviews from the year that was\",\n",
              "  'Union Minister Prakash Javadekar on Friday alleged that “some” farmers protesting against the recently enacted Central laws were misguided by their',\n",
              "  'Ms. Irani said Mr. Gandhi, whom she defeated in the last parliamentary election, is showing sympathy for farmers now, but he himself has ‘grabbed’ the land of farmers.',\n",
              "  'Over 5,000 complaints of domestic violence were received by the NCW in 2020.',\n",
              "  '“Let farm laws be implemented for an year or two. Let’s try this as an experiment.”',\n",
              "  '“I want to urge them to leave the protest and come forward for the dialogue. I am hopeful that farmers will understand the importance of new laws and reach a solution,” the Union Agriculture Minister said.',\n",
              "  'We take a moment to remember the icons and their contributions.',\n",
              "  'The Prime Minister interacted with farmers and transferred the benefit under PM-Kisan Samman Nidhi Yojana marking Good Governance Day.',\n",
              "  'The Bharatiya Kisan Union had announced that toll booths in Haryana would not be allowed to collect toll between December 25 to 27.',\n",
              "  'Mr. Modi released a book, Atal Bihari Vajpayee: A Commemorative Volume, to mark the occasion.',\n",
              "  'President Kovind paid homage to Vajpayee at ‘Sadaiv Atal’, a memorial to the former Prime Minister, here, the Rashtrapati Bhavan stated in a tweet.',\n",
              "  'Flights between India and U.K. remain suspended till Dec. 31',\n",
              "  'A select list of stories to read before you start your day',\n",
              "  'Film and photo shoots on themes of “national importance” at most Centrally-protected monuments across the country would not incur the usual fee',\n",
              "  '39 stuck at 2 ports as crew change is not permitted due to pandemic protocols',\n",
              "  'Passengers testing positive moved to separate quarantine units.',\n",
              "  'Several unions boycott the consultations terming them a ‘farce’',\n",
              "  'New Delhi adopts cautious approach to events in Kathmandu',\n",
              "  'Indian Navy ship INS Kiltan, which arrived in Vietnam on Thursday to deliver relief material under Mission Sagar-III, will hold a Passage Exercise'],\n",
              " 'healines': ['Two militants killed in Shopian encounter',\n",
              "  'PM Modi launches Ayushman Bharat scheme to extend health insurance coverage to all J&K residents',\n",
              "  'NGT extends term of oversight committee to monitor pollution of Ganga',\n",
              "  '150 soldiers in Delhi for Republic Day parade test positive for COVID-19',\n",
              "  \"India's daily COVID-19 fatality count below 300 after over 6 months\",\n",
              "  \"Pakistan violates ceasefire along IB in J&K's Kathua\",\n",
              "  \"Coronavirus live updates: India's daily COVID-19 fatality count below 300 after over 6 months\",\n",
              "  'Two militants arrested in Jammu; arms and ammunition seized',\n",
              "  'Morning Digest: Farmers refute PM Modi’s charge of changing demand, Congress plans ‘Save cow’ march in U.P., and more',\n",
              "  'Chidambaram flags RBI call for more stimulus',\n",
              "  'Ground Zero | iPhone plant violence — The making of a tinderbox',\n",
              "  'Dilli Chalo | Farmer unions refute Narendra Modi’s charge of changing demands',\n",
              "  'Dilli Chalo | A month on, protesting farmers show unflagging resolve',\n",
              "  'Govt. proposes varsity for disability studies, rehabilitation sciences',\n",
              "  'Centre’s strategy is to tire out farmers: Congress',\n",
              "  'Allotment of govt. accommodation being rationalised, says Housing Minister',\n",
              "  'Doyen of Urdu literature Shamsur Faruqi passes away',\n",
              "  'Army to seek waiver from Defence Ministry to expedite helicopter deal',\n",
              "  'Single portal for booking holiday homes, event venues',\n",
              "  'Congress plans ‘Save cow’ march, Tiranga yatras',\n",
              "  'Two AAP MPs raise slogans in Central Hall of Parliament against farm laws',\n",
              "  'CBI books case against Haryana firm, others for cheating banks',\n",
              "  'Coronavirus | Dry run for COVID-19 vaccine rollout in 4 States next week: Govt.',\n",
              "  '2020 in review: The year that was',\n",
              "  'Agitating farmers misguided, ryots across country are happy with Modi schemes: Prakash Javadekar',\n",
              "  'Rahul Gandhi lying and misleading farmers: Irani',\n",
              "  'Domestic violence remained serious concern for WCD Ministry in 2020',\n",
              "  'Come forward for talks, govt ready for all possible amendments: Rajnath Singh to farmers',\n",
              "  'Tomar urges Punjab farmers to end protest, resume talks with govt.',\n",
              "  'In memoriam: Remembering personalities who passed away in 2020',\n",
              "  'PM Modi releases ₹18,000 crore to nine crore farmers',\n",
              "  'Farmers halt toll collection on most highways in Haryana',\n",
              "  'Leaders pay tributes to Malaviya, Vajpayee on birth anniversary',\n",
              "  'President, Vice-President, PM Modi pay rich tribute to Vajpayee on birth anniversary',\n",
              "  'Coronavirus updates | December 25, 2020',\n",
              "  'Morning Digest: Over 6,000 travellers from U.K. traced across States in wake of new coronavirus strain, govt. renews offer for dialogue with farmers, and more',\n",
              "  'ASI makes filming at most monuments free of charge till Aug. 2021',\n",
              "  'MEA flags plight of Indian sailors stuck at Chinese ports',\n",
              "  'Coronavirus | Over 6,000 travellers from U.K. traced across States',\n",
              "  'Worker, employer bodies seek changes to draft labour rules',\n",
              "  'Parliament dissolution Nepal’s ‘internal matter’: India',\n",
              "  'Navies of India, Vietnam to hold PASSEX in South China Sea']}"
            ]
          },
          "metadata": {
            "tags": []
          },
          "execution_count": 134
        }
      ]
    },
    {
      "cell_type": "code",
      "metadata": {
        "colab": {
          "base_uri": "https://localhost:8080/",
          "height": 204
        },
        "id": "0J3bsxW4WGNC",
        "outputId": "3b8065bc-1419-4560-b170-d71c78fd5ded"
      },
      "source": [
        "df = pd.DataFrame(dictionary)\r\n",
        "df.head() "
      ],
      "execution_count": 135,
      "outputs": [
        {
          "output_type": "execute_result",
          "data": {
            "text/html": [
              "<div>\n",
              "<style scoped>\n",
              "    .dataframe tbody tr th:only-of-type {\n",
              "        vertical-align: middle;\n",
              "    }\n",
              "\n",
              "    .dataframe tbody tr th {\n",
              "        vertical-align: top;\n",
              "    }\n",
              "\n",
              "    .dataframe thead th {\n",
              "        text-align: right;\n",
              "    }\n",
              "</style>\n",
              "<table border=\"1\" class=\"dataframe\">\n",
              "  <thead>\n",
              "    <tr style=\"text-align: right;\">\n",
              "      <th></th>\n",
              "      <th>healines</th>\n",
              "      <th>description</th>\n",
              "    </tr>\n",
              "  </thead>\n",
              "  <tbody>\n",
              "    <tr>\n",
              "      <th>0</th>\n",
              "      <td>Two militants killed in Shopian encounter</td>\n",
              "      <td>Reports suggest they were locals with links to...</td>\n",
              "    </tr>\n",
              "    <tr>\n",
              "      <th>1</th>\n",
              "      <td>PM Modi launches Ayushman Bharat scheme to ext...</td>\n",
              "      <td>There is provision for operational extension o...</td>\n",
              "    </tr>\n",
              "    <tr>\n",
              "      <th>2</th>\n",
              "      <td>NGT extends term of oversight committee to mon...</td>\n",
              "      <td>Not advisable to close the committee abruptly ...</td>\n",
              "    </tr>\n",
              "    <tr>\n",
              "      <th>3</th>\n",
              "      <td>150 soldiers in Delhi for Republic Day parade ...</td>\n",
              "      <td>They have been quarantined at Delhi Cantonment...</td>\n",
              "    </tr>\n",
              "    <tr>\n",
              "      <th>4</th>\n",
              "      <td>India's daily COVID-19 fatality count below 30...</td>\n",
              "      <td>22,273 new cases were reported across the coun...</td>\n",
              "    </tr>\n",
              "  </tbody>\n",
              "</table>\n",
              "</div>"
            ],
            "text/plain": [
              "                                            healines                                        description\n",
              "0          Two militants killed in Shopian encounter  Reports suggest they were locals with links to...\n",
              "1  PM Modi launches Ayushman Bharat scheme to ext...  There is provision for operational extension o...\n",
              "2  NGT extends term of oversight committee to mon...  Not advisable to close the committee abruptly ...\n",
              "3  150 soldiers in Delhi for Republic Day parade ...  They have been quarantined at Delhi Cantonment...\n",
              "4  India's daily COVID-19 fatality count below 30...  22,273 new cases were reported across the coun..."
            ]
          },
          "metadata": {
            "tags": []
          },
          "execution_count": 135
        }
      ]
    },
    {
      "cell_type": "code",
      "metadata": {
        "id": "gTTObL1FXBPn"
      },
      "source": [
        ""
      ],
      "execution_count": null,
      "outputs": []
    }
  ]
}